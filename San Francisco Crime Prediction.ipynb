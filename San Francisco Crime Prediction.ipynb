{
 "cells": [
  {
   "cell_type": "markdown",
   "metadata": {
    "cell_id": "00000-4849ac72-c570-4e63-9fff-1a511ba6231d",
    "deepnote_cell_type": "markdown",
    "id": "BGvfV5MQWWOR",
    "output_cleared": false,
    "tags": []
   },
   "source": [
    "# San Francisco Crime Prediction\n",
    "__Authors: Marguerit Nicolas, Palma François, Réaubourg Alexandre__\n",
    "\n",
    "In this notebook we try to predict crime that will happen one day based on crime that happened the previous day.\n",
    "\n",
    "We got the data from https://www.kaggle.com/kaggle/san-francisco-crime-classification?select=train.csv\n",
    "\n",
    "The test.csv from this dataset does not help us due to lacking some of the data we need for classifcation, thus we ignore it and make our test data from the train.csv file.\n",
    "\n",
    "Considering the large size of this dataset, we felt that we didn't need a bigger sample size.\n"
   ]
  },
  {
   "cell_type": "code",
   "execution_count": 1,
   "metadata": {
    "cell_id": "00001-64ef0866-3cdf-4a11-89db-7e5087ba9d9f",
    "colab": {
     "base_uri": "https://localhost:8080/"
    },
    "deepnote_cell_type": "code",
    "execution_millis": 52,
    "execution_start": 1609056960172,
    "id": "_NBNQyXTDEoj",
    "outputId": "48d2b7fd-4dad-4be8-bdda-6e3d54c49c15",
    "output_cleared": false,
    "source_hash": "d0f4a514"
   },
   "outputs": [
    {
     "name": "stdout",
     "output_type": "stream",
     "text": [
      "Drive already mounted at /content/drive; to attempt to forcibly remount, call drive.mount(\"/content/drive\", force_remount=True).\n"
     ]
    }
   ],
   "source": [
    "# We mount our drive for google colab purposes\n",
    "try:\n",
    "    from google.colab import drive\n",
    "    drive.mount('/content/drive')\n",
    "except:\n",
    "    pass"
   ]
  },
  {
   "cell_type": "code",
   "execution_count": 2,
   "metadata": {
    "cell_id": "00002-cf923186-c527-4ff8-9451-e3a7b5c0d62a",
    "deepnote_cell_type": "code",
    "execution_millis": 7277,
    "execution_start": 1609056960235,
    "id": "BbUgnx6uCEZT",
    "output_cleared": false,
    "source_hash": "24592113",
    "tags": []
   },
   "outputs": [],
   "source": [
    "import numpy as np\n",
    "import matplotlib.pyplot as plt\n",
    "import tensorflow as tf"
   ]
  },
  {
   "cell_type": "code",
   "execution_count": 3,
   "metadata": {
    "cell_id": "00003-a207abf1-041e-4ea6-8ef8-fc6bdd996af5",
    "deepnote_cell_type": "code",
    "execution_millis": 687,
    "execution_start": 1609056967512,
    "id": "bCeU9ItiCEZY",
    "output_cleared": false,
    "source_hash": "a0d145ee",
    "tags": []
   },
   "outputs": [],
   "source": [
    "# We get the csv file from there, feel free to change it for your purposes\n",
    "try:\n",
    "    with open(\"drive/MyDrive/Colab Notebooks/train.csv\") as inputfile:\n",
    "        aliste = inputfile.readlines()[1:]\n",
    "except:\n",
    "    with open(\"train.csv\") as inputfile:\n",
    "        aliste = inputfile.readlines()[1:]"
   ]
  },
  {
   "cell_type": "markdown",
   "metadata": {
    "cell_id": "00004-e3c70b0e-6b7e-4926-8631-aa9f611fc84a",
    "deepnote_cell_type": "markdown",
    "id": "yQ2_EXWyWWOX",
    "output_cleared": false,
    "tags": []
   },
   "source": [
    "## Filtering\n",
    "This is where we filter and trim down the data to the columns we want.\n",
    "We realized after the fact that we could have used panda or something similar but it was already done and we don't really understand panda all that well to begin with."
   ]
  },
  {
   "cell_type": "code",
   "execution_count": 4,
   "metadata": {
    "cell_id": "00005-a7055ea2-8922-4d09-9161-424a3c6ab75d",
    "colab": {
     "base_uri": "https://localhost:8080/"
    },
    "deepnote_cell_type": "code",
    "execution_millis": 11265,
    "execution_start": 1609056968216,
    "id": "NAKY3BuHCEZZ",
    "outputId": "40449b4d-f455-4575-dee2-3e50f8a98e68",
    "output_cleared": false,
    "source_hash": "3d7b787d",
    "tags": []
   },
   "outputs": [
    {
     "data": {
      "text/plain": [
       "[['2003-01-06', -122.394925721424, 37.738211541051996],\n",
       " ['2003-01-06', -122.39053140418699, 37.78060707982429],\n",
       " ['2003-01-06', -122.403390364804, 37.780265577696],\n",
       " ['2003-01-06', -122.447363507104, 37.7319475636101],\n",
       " ['2003-01-06', -122.459033097784, 37.7140562686562],\n",
       " ['2003-01-06', -122.389768984951, 37.7305636925712],\n",
       " ['2003-01-06', -122.389768984951, 37.7305636925712],\n",
       " ['2003-01-06', -122.472984835661, 37.7825523645525],\n",
       " ['2003-01-06', -122.41407332511, 37.7516845989529],\n",
       " ['2003-01-06', -122.42069168079901, 37.790577071030796],\n",
       " ['2003-01-06', -122.411518820366, 37.78694089985761],\n",
       " ['2003-01-06', -122.431046366089, 37.7830295716044],\n",
       " ['2003-01-06', -122.431046366089, 37.7830295716044],\n",
       " ['2003-01-06', -122.431046366089, 37.7830295716044],\n",
       " ['2003-01-06', -122.39166839300199, 37.7577932955113],\n",
       " ['2003-01-06', -122.39166839300199, 37.7577932955113],\n",
       " ['2003-01-06', -122.423031175095, 37.785481874719],\n",
       " ['2003-01-06', -122.39041695551701, 37.7355926106176],\n",
       " ['2003-01-06', -122.43442328150299, 37.7791934909101],\n",
       " ['2003-01-06', -122.43442328150299, 37.7791934909101]]"
      ]
     },
     "execution_count": 4,
     "metadata": {
      "tags": []
     },
     "output_type": "execute_result"
    }
   ],
   "source": [
    "bliste = []\n",
    "cliste = []\n",
    "for i in range(len(aliste)):\n",
    "    # We remove these types as we don't think they can help us predict crime\n",
    "    if aliste[i][1] not in [\"NON-CRIMINAL\", \"OTHER OFFENSES\", \"WARRANTS\", \"SUSIPCIOUS OCC\"]:\n",
    "        temp = aliste[i].split(\",\")\n",
    "        if temp[-1] != \"90.0\\n\":\n",
    "            bliste += [[temp[0][:-9]]  + [float(temp[-2])] + [float(temp[-1][:-1])]]\n",
    "            cliste += [[float(temp[-2])] + [float(temp[-1][:-1])]]\n",
    "\n",
    "bliste = bliste[::-1]\n",
    "bliste[:20]"
   ]
  },
  {
   "cell_type": "markdown",
   "metadata": {
    "cell_id": "00006-d04511d6-6d44-4bbb-b7b6-46549381315d",
    "deepnote_cell_type": "markdown",
    "id": "vgi1DP3HWWOY",
    "output_cleared": false,
    "tags": []
   },
   "source": [
    "## Projection\n",
    "We find the bounds of the coordinates which will help us make the bins.\n",
    "\n",
    "We ultimately want to project our coordinates unto a square matrix, thus we first find the min and max of both coordinates."
   ]
  },
  {
   "cell_type": "code",
   "execution_count": 5,
   "metadata": {
    "cell_id": "00007-e9f2cc79-ef50-40cf-9f2c-ebcedef85cf5",
    "colab": {
     "base_uri": "https://localhost:8080/"
    },
    "deepnote_cell_type": "code",
    "execution_millis": 936,
    "execution_start": 1609056979488,
    "id": "qI6X9OSvCEZa",
    "outputId": "1a0c2909-4d8a-4545-e5f2-e75437c9880e",
    "output_cleared": false,
    "source_hash": "5e9f9b2e",
    "tags": []
   },
   "outputs": [
    {
     "name": "stdout",
     "output_type": "stream",
     "text": [
      "37.819975492297004 37.7078790224135\n",
      "-122.36493749408001 -122.51364206429\n"
     ]
    }
   ],
   "source": [
    "Xmaxi = bliste[0][-2]\n",
    "Xmini = bliste[0][-2]\n",
    "Ymaxi = bliste[0][-1]\n",
    "Ymini = bliste[0][-1]\n",
    "\n",
    "for liste in bliste:\n",
    "    if liste[-2] > Xmaxi:\n",
    "        Xmaxi = liste[-2]\n",
    "    if liste[-2] < Xmini:\n",
    "        Xmini = liste[-2]\n",
    "    if liste[-1] > Ymaxi:\n",
    "        Ymaxi = liste[-1]\n",
    "    if liste[-1] < Ymini:\n",
    "        Ymini = liste[-1]\n",
    "\n",
    "print(Ymaxi, Ymini)\n",
    "print(Xmaxi, Xmini)"
   ]
  },
  {
   "cell_type": "markdown",
   "metadata": {
    "cell_id": "00008-6296c51c-cc81-4ecd-864a-79f9b882da9d",
    "deepnote_cell_type": "markdown",
    "id": "NhuyRS6vWWOZ",
    "output_cleared": false,
    "tags": []
   },
   "source": [
    "### Insertion\n",
    "\n",
    "We need to place each coordinate into the appropriate bin.\n",
    "\n",
    "We first define the binsize and what each bin corresponds to, coordinates wise.\n",
    "\n",
    "Then, we sort each row of data in the bins and find what bin is appropriate through a dichotomic search algorithm.\n",
    "\n",
    "Finally, we get a list that gives us the coordinates in the matrix of each datapoint."
   ]
  },
  {
   "cell_type": "code",
   "execution_count": 6,
   "metadata": {
    "cell_id": "00009-49605424-af08-4a40-bb38-a9883c0e6a9d",
    "colab": {
     "base_uri": "https://localhost:8080/"
    },
    "deepnote_cell_type": "code",
    "execution_millis": 12608,
    "execution_start": 1609056980435,
    "id": "omuIhpxVCEZa",
    "is_code_hidden": false,
    "outputId": "35274113-bfe1-4e4e-d54c-32a6ec596d16",
    "output_cleared": false,
    "source_hash": "6be4698b",
    "tags": []
   },
   "outputs": [
    {
     "data": {
      "text/plain": [
       "[['2003-01-06', 79, 27],\n",
       " ['2003-01-06', 82, 64],\n",
       " ['2003-01-06', 74, 64],\n",
       " ['2003-01-06', 44, 21],\n",
       " ['2003-01-06', 36, 5],\n",
       " ['2003-01-06', 83, 20],\n",
       " ['2003-01-06', 83, 20],\n",
       " ['2003-01-06', 27, 66],\n",
       " ['2003-01-06', 66, 39],\n",
       " ['2003-01-06', 62, 73]]"
      ]
     },
     "execution_count": 6,
     "metadata": {
      "tags": []
     },
     "output_type": "execute_result"
    }
   ],
   "source": [
    "Xbins = [Xmini]\n",
    "Ybins = [Ymini]\n",
    "binsize = 100\n",
    "for i in range(1, binsize + 1):\n",
    "    Xbins += [Xmini * (binsize - i) / binsize + Xmaxi * i / binsize]\n",
    "    Ybins += [Ymini * (binsize - i) / binsize + Ymaxi * i / binsize]\n",
    "\n",
    "def binnumber(value, bins):\n",
    "    testvalue = len(bins) // 2\n",
    "    bornemin = 0\n",
    "    bornemax = len(bins) - 1;\n",
    "    while not (value <= bins[testvalue] and value >= bins[testvalue - 1]):\n",
    "        if value > bins[testvalue]:\n",
    "            bornemin = testvalue\n",
    "        else:\n",
    "            bornemax = testvalue\n",
    "        testvalue = bornemin // 2 + bornemax // 2 + int(bornemin == testvalue)\n",
    "    return testvalue - 1\n",
    "\n",
    "fliste = []\n",
    "for ligne in bliste:\n",
    "    temp = ligne.copy()\n",
    "    temp[-1] = binnumber(temp[-1], Ybins)\n",
    "    temp[-2] = binnumber(temp[-2], Xbins)\n",
    "    fliste += [temp]\n",
    "\n",
    "fliste[:10]"
   ]
  },
  {
   "cell_type": "markdown",
   "metadata": {
    "cell_id": "00010-8ea28410-6137-47a0-b902-898c22cc41b7",
    "deepnote_cell_type": "markdown",
    "id": "sJK3FCl6WWOZ",
    "output_cleared": false,
    "tags": []
   },
   "source": [
    "#### Crime heatmap\n",
    "\n",
    "For illustration purposes, here is a scatterplot of each crime in our dataset.\n",
    "\n",
    "Interestingly, we can see the map of San Francisco emerge from it."
   ]
  },
  {
   "cell_type": "code",
   "execution_count": 7,
   "metadata": {
    "cell_id": "00011-f2904067-29b0-49ad-b241-f72c62b6c198",
    "colab": {
     "base_uri": "https://localhost:8080/",
     "height": 283
    },
    "deepnote_cell_type": "code",
    "execution_millis": 3201,
    "execution_start": 1609056995114,
    "id": "FP8gTiuLCEZb",
    "outputId": "4792bc84-4d19-4407-a392-a2d9c2e6c413",
    "output_cleared": false,
    "source_hash": "e385c387",
    "tags": []
   },
   "outputs": [
    {
     "data": {
      "text/plain": [
       "<matplotlib.collections.PathCollection at 0x7f774453af98>"
      ]
     },
     "execution_count": 7,
     "metadata": {
      "tags": []
     },
     "output_type": "execute_result"
    },
    {
     "data": {
      "image/png": "[encoded data removed]",
      "text/plain": [
       "<Figure size 432x288 with 1 Axes>"
      ]
     },
     "metadata": {
      "needs_background": "light",
      "tags": []
     },
     "output_type": "display_data"
    }
   ],
   "source": [
    "dliste = np.array(cliste)\n",
    "plt.scatter(dliste[:][:,0], dliste[:][:,1])"
   ]
  },
  {
   "cell_type": "markdown",
   "metadata": {
    "cell_id": "00012-7c1f68fc-7985-4e63-8828-dbdfa9d3bea6",
    "deepnote_cell_type": "markdown",
    "id": "50RTUCh1WWOa",
    "tags": []
   },
   "source": [
    "#### Histogram 1\n",
    "To illustrate where the crimes happen the most, here is a histogram of all the crimes in relation to their Y coordinates. They seem to be concentrated mostly in the north of the city."
   ]
  },
  {
   "cell_type": "code",
   "execution_count": 8,
   "metadata": {
    "cell_id": "00013-57335313-5c0c-4257-9cce-d5c1666b2007",
    "colab": {
     "base_uri": "https://localhost:8080/",
     "height": 337
    },
    "deepnote_cell_type": "code",
    "execution_millis": 4136,
    "execution_start": 1609057078756,
    "id": "EXb-mJHpCEZc",
    "outputId": "6e3cf7ce-ec8a-4b18-acfa-878901c0a064",
    "output_cleared": false,
    "source_hash": "4db070ef",
    "tags": []
   },
   "outputs": [
    {
     "data": {
      "text/plain": [
       "(array([ 42892.,  61829.,  63246.,  53928.,  92319., 118465., 283175.,\n",
       "        110569.,  49834.,   1725.]),\n",
       " array([ 0. ,  9.9, 19.8, 29.7, 39.6, 49.5, 59.4, 69.3, 79.2, 89.1, 99. ]),\n",
       " <a list of 10 Patch objects>)"
      ]
     },
     "execution_count": 8,
     "metadata": {
      "tags": []
     },
     "output_type": "execute_result"
    },
    {
     "data": {
      "image/png": "[encoded data removed]",
      "text/plain": [
       "<Figure size 432x288 with 1 Axes>"
      ]
     },
     "metadata": {
      "needs_background": "light",
      "tags": []
     },
     "output_type": "display_data"
    }
   ],
   "source": [
    "plt.hist(np.array(fliste)[:, -1].astype(int))"
   ]
  },
  {
   "cell_type": "markdown",
   "metadata": {
    "cell_id": "00014-12af1de5-ce21-4b02-a9c2-00913ea6d959",
    "deepnote_cell_type": "markdown",
    "id": "R74zRqBBWWOa",
    "tags": []
   },
   "source": [
    "#### Histogram 2\n",
    "\n",
    "This one is for the X coordinate. The crimes seem to be concentrated mostly in the east."
   ]
  },
  {
   "cell_type": "code",
   "execution_count": 9,
   "metadata": {
    "cell_id": "00015-1e90d928-5872-4711-b252-c22728a62fb9",
    "colab": {
     "base_uri": "https://localhost:8080/",
     "height": 337
    },
    "deepnote_cell_type": "code",
    "execution_millis": 3569,
    "execution_start": 1609057082892,
    "id": "p_qJz4S8CEZc",
    "outputId": "55930035-0d77-4636-9ab2-beb48cf81488",
    "output_cleared": false,
    "source_hash": "2e19b536",
    "tags": []
   },
   "outputs": [
    {
     "data": {
      "text/plain": [
       "(array([ 12897.,  18658.,  32988.,  41148.,  65558., 117409., 309010.,\n",
       "        213535.,  59996.,   6783.]),\n",
       " array([ 0. ,  9.9, 19.8, 29.7, 39.6, 49.5, 59.4, 69.3, 79.2, 89.1, 99. ]),\n",
       " <a list of 10 Patch objects>)"
      ]
     },
     "execution_count": 9,
     "metadata": {
      "tags": []
     },
     "output_type": "execute_result"
    },
    {
     "data": {
      "image/png": "[encoded data removed]",
      "text/plain": [
       "<Figure size 432x288 with 1 Axes>"
      ]
     },
     "metadata": {
      "needs_background": "light",
      "tags": []
     },
     "output_type": "display_data"
    }
   ],
   "source": [
    "plt.hist(np.array(fliste)[:, -2].astype(int))"
   ]
  },
  {
   "cell_type": "markdown",
   "metadata": {
    "cell_id": "00016-438bc353-4bbe-4516-8f3a-bc2982a76096",
    "deepnote_cell_type": "markdown",
    "id": "qjjDQk2OWWOb",
    "tags": []
   },
   "source": [
    "#### Dates\n",
    "We sort each different date in a list and sort them, we'll need to construct the matrix of each day's crimemap and we need to know where to sort each datapoint."
   ]
  },
  {
   "cell_type": "code",
   "execution_count": 10,
   "metadata": {
    "cell_id": "00017-dbc21c8d-a731-4235-9a9e-2ae990dfe13c",
    "colab": {
     "base_uri": "https://localhost:8080/"
    },
    "deepnote_cell_type": "code",
    "execution_millis": 334,
    "execution_start": 1609057086465,
    "id": "iS9r5W6mCEZc",
    "outputId": "6a4c779c-da3c-46fa-af8d-de467a8f6839",
    "output_cleared": false,
    "source_hash": "43c85ed7",
    "tags": []
   },
   "outputs": [
    {
     "name": "stdout",
     "output_type": "stream",
     "text": [
      "2249\n"
     ]
    }
   ],
   "source": [
    "dates = set()\n",
    "\n",
    "for ligne in fliste:\n",
    "    dates.add(ligne[0])\n",
    "\n",
    "datelist = sorted(dates)\n",
    "\n",
    "datedico = {}\n",
    "for i in range(len(datelist)):\n",
    "    datedico[datelist[i]] = i\n",
    "\n",
    "print(len(dates))"
   ]
  },
  {
   "cell_type": "markdown",
   "metadata": {
    "cell_id": "00018-881a14a5-b100-4290-a773-7bb1a2a19baf",
    "deepnote_cell_type": "markdown",
    "id": "m9VNIlQ5WWOb",
    "tags": []
   },
   "source": [
    "### Matrix construction\n",
    "\n",
    "We can now construct the matrix for each day. Each matrix will be a binary square matrix of binsize * binsize dimensions where a 0 indicates no crime that day in that bin and 1 indicates at least one crime."
   ]
  },
  {
   "cell_type": "code",
   "execution_count": 11,
   "metadata": {
    "cell_id": "00019-1b258828-a73e-4fab-b980-78db2f13787f",
    "colab": {
     "base_uri": "https://localhost:8080/"
    },
    "deepnote_cell_type": "code",
    "execution_millis": 1159,
    "execution_start": 1609057086865,
    "id": "UxHLOiQ4CEZd",
    "outputId": "c1bca645-6819-4bd6-97bf-4821d4dabe6e",
    "output_cleared": false,
    "source_hash": "3498f818",
    "tags": []
   },
   "outputs": [
    {
     "data": {
      "text/plain": [
       "(2249, 100)"
      ]
     },
     "execution_count": 11,
     "metadata": {
      "tags": []
     },
     "output_type": "execute_result"
    }
   ],
   "source": [
    "matrices = np.zeros((2249, binsize, binsize))\n",
    "for ligne in fliste:\n",
    "    matrices[datedico[ligne[0]], ligne[1], ligne[2]] = 1\n",
    "matrices[:, 0].shape"
   ]
  },
  {
   "cell_type": "markdown",
   "metadata": {
    "cell_id": "00020-9256c1fc-d101-4fbb-aecd-5163baad6027",
    "deepnote_cell_type": "markdown",
    "id": "Kmf_C-lgWWOc",
    "tags": []
   },
   "source": [
    "### Data split\n",
    "Now we can split the data into train and test.\n",
    "The output is the crimes of the next day.\n",
    "\n",
    "We choose to take 80 percent of the data for training purposes."
   ]
  },
  {
   "cell_type": "code",
   "execution_count": 12,
   "metadata": {
    "cell_id": "00021-57c80d5c-bb1f-4827-9c8e-303e70d56528",
    "deepnote_cell_type": "code",
    "execution_millis": 8,
    "execution_start": 1609057088071,
    "id": "s3cUpG8-CEZd",
    "output_cleared": false,
    "source_hash": "6d21c1d9",
    "tags": []
   },
   "outputs": [],
   "source": [
    "X = matrices[:-1]\n",
    "Y = matrices[1:]\n",
    "\n",
    "testrange = len(X) * 80 // 100\n",
    "\n",
    "x_train = X[:testrange]\n",
    "x_test = X[testrange:]\n",
    "y_train = Y[:testrange]\n",
    "y_test = Y[testrange:]"
   ]
  },
  {
   "cell_type": "markdown",
   "metadata": {
    "cell_id": "00022-a7441a37-fa28-44ce-9576-b87c813de040",
    "deepnote_cell_type": "markdown",
    "id": "-y2jdoagWWOc",
    "tags": []
   },
   "source": [
    "## Model construction\n",
    "We construct a multi layer perceptron based model with 2 hidden layers.\n",
    "\n",
    "We compile using binary crossentropy due to the data being binary."
   ]
  },
  {
   "cell_type": "code",
   "execution_count": 13,
   "metadata": {
    "cell_id": "00023-913aed5b-238c-4288-8518-5f220259a9e9",
    "colab": {
     "base_uri": "https://localhost:8080/",
     "height": 936
    },
    "deepnote_cell_type": "code",
    "execution_millis": 161,
    "execution_start": 1609057088082,
    "id": "exmYCswmCEZe",
    "outputId": "28811972-311e-4fcd-9c1f-06ad41fdc2fd",
    "output_cleared": false,
    "source_hash": "3ee7ea9",
    "tags": []
   },
   "outputs": [
    {
     "name": "stdout",
     "output_type": "stream",
     "text": [
      "Epoch 1/10\n",
      "57/57 [==============================] - 3s 44ms/step - loss: 0.1975 - accuracy: 0.0535\n",
      "Epoch 2/10\n",
      "57/57 [==============================] - 3s 44ms/step - loss: 0.0868 - accuracy: 0.0743\n",
      "Epoch 3/10\n",
      "57/57 [==============================] - 2s 44ms/step - loss: 0.0821 - accuracy: 0.0870\n",
      "Epoch 4/10\n",
      "57/57 [==============================] - 3s 44ms/step - loss: 0.0750 - accuracy: 0.1143\n",
      "Epoch 5/10\n",
      "57/57 [==============================] - 3s 44ms/step - loss: 0.0626 - accuracy: 0.1800\n",
      "Epoch 6/10\n",
      "57/57 [==============================] - 3s 44ms/step - loss: 0.0442 - accuracy: 0.2781\n",
      "Epoch 7/10\n",
      "57/57 [==============================] - 3s 44ms/step - loss: 0.0266 - accuracy: 0.3372\n",
      "Epoch 8/10\n",
      "57/57 [==============================] - 3s 44ms/step - loss: 0.0150 - accuracy: 0.3548\n",
      "Epoch 9/10\n",
      "57/57 [==============================] - 3s 44ms/step - loss: 0.0085 - accuracy: 0.3574\n",
      "Epoch 10/10\n",
      "57/57 [==============================] - 2s 44ms/step - loss: 0.0050 - accuracy: 0.3590\n"
     ]
    },
    {
     "data": {
      "image/png": "[encoded data removed]",
      "text/plain": [
       "<Figure size 432x288 with 1 Axes>"
      ]
     },
     "metadata": {
      "needs_background": "light",
      "tags": []
     },
     "output_type": "display_data"
    },
    {
     "data": {
      "image/png": "[encoded data removed]",
      "text/plain": [
       "<Figure size 432x288 with 1 Axes>"
      ]
     },
     "metadata": {
      "needs_background": "light",
      "tags": []
     },
     "output_type": "display_data"
    }
   ],
   "source": [
    "model1 = tf.keras.Sequential([\n",
    "    tf.keras.layers.Flatten(),\n",
    "    tf.keras.layers.Dense(binsize * binsize, activation=tf.nn.relu),\n",
    "    tf.keras.layers.Dense(binsize * binsize, activation=tf.nn.sigmoid),\n",
    "    tf.keras.layers.Reshape(target_shape=y_train[0].shape)\n",
    "])\n",
    "\n",
    "model1.compile(optimizer='adam', \n",
    "               loss='binary_crossentropy',\n",
    "               metrics=['accuracy'])\n",
    "\n",
    "history = model1.fit(x_train, y_train, epochs=10)\n",
    "for j in list(history.history.keys()):\n",
    "    plt.plot(history.history[j])\n",
    "    plt.title(j + ' over epochs')\n",
    "    plt.ylabel(j)\n",
    "    plt.xlabel('Epochs')\n",
    "    plt.show()"
   ]
  },
  {
   "cell_type": "markdown",
   "metadata": {
    "cell_id": "00024-ac106f6e-6afa-4909-ba33-513f1a50529a",
    "deepnote_cell_type": "markdown",
    "id": "f4L0RUMtix7c",
    "tags": []
   },
   "source": [
    "## Predictions\n",
    "\n",
    "Now that our model is built, we test it on the test values."
   ]
  },
  {
   "cell_type": "code",
   "execution_count": 14,
   "metadata": {
    "cell_id": "00024-cd53f4cb-d484-4896-9903-2a77ec34acf0",
    "colab": {
     "base_uri": "https://localhost:8080/",
     "height": 1000
    },
    "deepnote_cell_type": "code",
    "execution_millis": 14,
    "id": "wXze1wv_CEZe",
    "outputId": "a7f344cb-fe90-438b-e4e5-23597ea52434",
    "output_cleared": false,
    "source_hash": "c7b2fe6f",
    "tags": []
   },
   "outputs": [
    {
     "name": "stdout",
     "output_type": "stream",
     "text": [
      "15/15 [==============================] - 0s 6ms/step - loss: 0.1417 - accuracy: 0.0597\n"
     ]
    },
    {
     "data": {
      "image/png": "[encoded data removed]",
      "text/plain": [
       "<Figure size 2520x1440 with 8 Axes>"
      ]
     },
     "metadata": {
      "tags": []
     },
     "output_type": "display_data"
    }
   ],
   "source": [
    "results = model1.evaluate(x_test, y_test)\n",
    "resultsimg = model1.predict(x_test)\n",
    "\n",
    "fig, axes = plt.subplots(nrows=2, ncols=4, figsize=(35,20))\n",
    "for i in range(axes.shape[1]):\n",
    "  axes[0][i].imshow(y_test[i], cmap=plt.cm.binary, origin='lower')\n",
    "  axes[0][i].set_xticks([])\n",
    "  axes[0][i].set_yticks([])\n",
    "  axes[0][i].set_xlabel(\"Locations of crimes\\nfor the day \" + str(i))\n",
    "  axes[1][i].imshow(resultsimg[i], cmap=plt.cm.binary, origin='lower')\n",
    "  axes[1][i].set_xticks([])\n",
    "  axes[1][i].set_yticks([])\n",
    "  axes[1][i].set_xlabel(\"Predicted locations of\\ncrimes for the day \" + str(i))"
   ]
  },
  {
   "cell_type": "markdown",
   "metadata": {
    "cell_id": "00026-b9206f83-1c5c-424c-9900-12a8eb74b917",
    "deepnote_cell_type": "markdown",
    "id": "49IhzA3Fix7g",
    "tags": []
   },
   "source": [
    "## Model 2\n",
    "We now try a different model to see how the results differ."
   ]
  },
  {
   "cell_type": "code",
   "execution_count": 15,
   "metadata": {
    "cell_id": "00026-c54a2991-478c-4b25-b429-752b907a97fe",
    "colab": {
     "base_uri": "https://localhost:8080/"
    },
    "deepnote_cell_type": "code",
    "execution_millis": 2058,
    "id": "0OFxvDDcCEZf",
    "outputId": "3e388466-ca13-45a5-eb9b-70c400010bbb",
    "output_cleared": false,
    "source_hash": "8cde01d4",
    "tags": []
   },
   "outputs": [
    {
     "name": "stdout",
     "output_type": "stream",
     "text": [
      "Model: \"model\"\n",
      "_________________________________________________________________\n",
      "Layer (type)                 Output Shape              Param #   \n",
      "=================================================================\n",
      "input_1 (InputLayer)         [(None, 100, 100)]        0         \n",
      "_________________________________________________________________\n",
      "reshape_1 (Reshape)          (None, 100, 100, 1)       0         \n",
      "_________________________________________________________________\n",
      "conv2d (Conv2D)              (None, 98, 98, 32)        320       \n",
      "_________________________________________________________________\n",
      "max_pooling2d (MaxPooling2D) (None, 49, 49, 32)        0         \n",
      "_________________________________________________________________\n",
      "conv2d_1 (Conv2D)            (None, 47, 47, 64)        18496     \n",
      "_________________________________________________________________\n",
      "max_pooling2d_1 (MaxPooling2 (None, 23, 23, 64)        0         \n",
      "_________________________________________________________________\n",
      "conv2d_2 (Conv2D)            (None, 21, 21, 100)       57700     \n",
      "_________________________________________________________________\n",
      "max_pooling2d_2 (MaxPooling2 (None, 10, 10, 100)       0         \n",
      "_________________________________________________________________\n",
      "flatten_1 (Flatten)          (None, 10000)             0         \n",
      "_________________________________________________________________\n",
      "dense_2 (Dense)              (None, 20)                200020    \n",
      "_________________________________________________________________\n",
      "dense_3 (Dense)              (None, 10000)             210000    \n",
      "_________________________________________________________________\n",
      "reshape_2 (Reshape)          (None, 100, 100)          0         \n",
      "=================================================================\n",
      "Total params: 486,536\n",
      "Trainable params: 486,536\n",
      "Non-trainable params: 0\n",
      "_________________________________________________________________\n"
     ]
    }
   ],
   "source": [
    "inp = tf.keras.layers.Input(x_train[0].shape)\n",
    "a = tf.keras.layers.Reshape(target_shape=(binsize, binsize, 1)) (inp)\n",
    "a = tf.keras.layers.Conv2D(filters=32, activation=tf.nn.relu, kernel_size=3)(a)\n",
    "a = tf.keras.layers.MaxPooling2D() (a)\n",
    "a = tf.keras.layers.Conv2D(filters=64, activation=tf.nn.relu, kernel_size=3) (a)\n",
    "a = tf.keras.layers.MaxPooling2D() (a)\n",
    "a = tf.keras.layers.Conv2D(binsize, activation=tf.nn.relu, kernel_size=3) (a)\n",
    "a = tf.keras.layers.MaxPooling2D() (a)\n",
    "a = tf.keras.layers.Flatten() (a)\n",
    "a = tf.keras.layers.Dense(20, activation=tf.nn.sigmoid) (a)\n",
    "a = tf.keras.layers.Dense(binsize * binsize, activation=tf.nn.softmax) (a)\n",
    "out = tf.keras.layers.Reshape(target_shape=(binsize, binsize)) (a)\n",
    "\n",
    "model2 = tf.keras.Model(inp, out)\n",
    "model2.build(input_shape=x_train[0].shape)\n",
    "model2.compile(optimizer='adam', \n",
    "                loss='categorical_crossentropy',\n",
    "                metrics=[tf.keras.metrics.CategoricalCrossentropy()])\n",
    "model2.summary()"
   ]
  },
  {
   "cell_type": "code",
   "execution_count": 16,
   "metadata": {
    "cell_id": "00027-6b2cee1c-f637-4e44-8495-9e6084bee2bf",
    "colab": {
     "base_uri": "https://localhost:8080/"
    },
    "deepnote_cell_type": "code",
    "execution_millis": 8849,
    "id": "cfUqH8rSCEZf",
    "outputId": "43a70028-f1e8-4b5c-c15d-5b2b55b183a6",
    "output_cleared": false,
    "source_hash": "4c5402dc",
    "tags": []
   },
   "outputs": [
    {
     "name": "stdout",
     "output_type": "stream",
     "text": [
      "Epoch 1/5\n",
      "57/57 [==============================] - 3s 12ms/step - loss: 11.2985 - categorical_crossentropy: 11.2985\n",
      "Epoch 2/5\n",
      "57/57 [==============================] - 1s 11ms/step - loss: 10.0399 - categorical_crossentropy: 10.0399\n",
      "Epoch 3/5\n",
      "57/57 [==============================] - 1s 11ms/step - loss: 9.8475 - categorical_crossentropy: 9.8475\n",
      "Epoch 4/5\n",
      "57/57 [==============================] - 1s 12ms/step - loss: 9.8074 - categorical_crossentropy: 9.8074\n",
      "Epoch 5/5\n",
      "57/57 [==============================] - 1s 11ms/step - loss: 9.7664 - categorical_crossentropy: 9.7664\n"
     ]
    },
    {
     "data": {
      "text/plain": [
       "<tensorflow.python.keras.callbacks.History at 0x7f76b25169b0>"
      ]
     },
     "execution_count": 16,
     "metadata": {
      "tags": []
     },
     "output_type": "execute_result"
    }
   ],
   "source": [
    "model2.fit(x_train, y_train, epochs=5)"
   ]
  },
  {
   "cell_type": "code",
   "execution_count": 17,
   "metadata": {
    "cell_id": "00028-0b91592e-8e1d-419c-b0d7-99d8c08be8e5",
    "colab": {
     "base_uri": "https://localhost:8080/",
     "height": 1000
    },
    "deepnote_cell_type": "code",
    "id": "zQYXVCuYCEZf",
    "outputId": "772e48f3-457a-4505-9b73-d378154df80b",
    "output_cleared": false,
    "source_hash": "fe500844",
    "tags": []
   },
   "outputs": [
    {
     "name": "stdout",
     "output_type": "stream",
     "text": [
      "15/15 [==============================] - 0s 7ms/step - loss: 10.1723 - categorical_crossentropy: 10.1723\n"
     ]
    },
    {
     "data": {
      "image/png": "[encoded data removed]",
      "text/plain": [
       "<Figure size 2520x1440 with 8 Axes>"
      ]
     },
     "metadata": {
      "tags": []
     },
     "output_type": "display_data"
    }
   ],
   "source": [
    "results = model2.evaluate(x_test, y_test)\n",
    "resultsimg = model2.predict(x_test)\n",
    "\n",
    "fig, axes = plt.subplots(nrows=2, ncols=4, figsize=(35,20))\n",
    "for i in range(axes.shape[1]):\n",
    "  axes[0][i].imshow(y_test[i], cmap=plt.cm.binary, origin='lower')\n",
    "  axes[0][i].set_xticks([])\n",
    "  axes[0][i].set_yticks([])\n",
    "  axes[0][i].set_xlabel(\"Locations of crimes\\nfor the day \" + str(i))\n",
    "  axes[1][i].imshow(resultsimg[i], cmap=plt.cm.binary, origin='lower')\n",
    "  axes[1][i].set_xticks([])\n",
    "  axes[1][i].set_yticks([])\n",
    "  axes[1][i].set_xlabel(\"Predicted locations of\\ncrimes for the day \" + str(i))"
   ]
  },
  {
   "cell_type": "markdown",
   "metadata": {
    "cell_id": "00030-eba27148-1e25-4c47-a03f-7e555fcac6b3",
    "deepnote_cell_type": "markdown",
    "id": "4yD0grFoix7i",
    "tags": []
   },
   "source": [
    "# Conclusions\n",
    "Our first model seems to be more accurate.\n",
    "\n",
    "The accuracy seems strangely low considering how close the predictions seem to be compared to the real data.\n",
    "\n",
    "We consider this mostly a success.\n",
    "\n",
    "One caveat is that our model probably wouldn't work at all on a different city and probably has been trained for this particular city.\n",
    "We don't think this is that big of a flaw considering each city has unique geography and population density, among other factors that lead to more crimes.\n",
    "\n",
    "To improve our model we might have to go with a bigger sample size, or maybe different layers.\n",
    "\n",
    "There doesn't seem to be any bias that we need to worry about considering all the data is purely geographical."
   ]
  }
 ],
 "metadata": {
  "accelerator": "GPU",
  "colab": {
   "collapsed_sections": [],
   "name": "San_Francisco_Crime_Prediction.ipynb",
   "provenance": [],
   "toc_visible": true
  },
  "deepnote_execution_queue": [],
  "deepnote_notebook_id": "1d7a13b4-5fa5-4513-9b5f-63a0b7bcf76d",
  "kernelspec": {
   "display_name": "Python 3",
   "language": "python",
   "name": "python3"
  },
  "language_info": {
   "codemirror_mode": {
    "name": "ipython",
    "version": 3
   },
   "file_extension": ".py",
   "mimetype": "text/x-python",
   "name": "python",
   "nbconvert_exporter": "python",
   "pygments_lexer": "ipython3",
   "version": "3.7.9"
  }
 },
 "nbformat": 4,
 "nbformat_minor": 1
}
